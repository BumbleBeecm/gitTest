{
 "cells": [
  {
   "cell_type": "markdown",
   "metadata": {},
   "source": [
    "## Loop Through 100 Lichen Species:)\n",
    "### modified on June 16th, 2021"
   ]
  },
  {
   "cell_type": "markdown",
   "metadata": {},
   "source": [
    "#### (optional) split by attributes using scripts"
   ]
  },
  {
   "cell_type": "code",
   "execution_count": null,
   "metadata": {},
   "outputs": [],
   "source": [
    "# import arcpy\n",
    "\n",
    "# # set environment\n",
    "# arcpy.env.workspace = r\"D:\\Pro_Projects\\Project_Lichens_may8th2021\\Project_Lichens_may10th2021.gdb\"\n",
    "\n",
    "# # separate each spp attributes into individual feature classes, stored them all in one common gdb\n",
    "# arcpy.SplitByAttributes_analysis(\"lichen_table\", r\"D:\\Pro_Projects\\Project_Lichens_may10th2021\\spp_gdb.gdb\", [\"SPP\"])"
   ]
  },
  {
   "cell_type": "markdown",
   "metadata": {},
   "source": [
    "# ---------------- PART 1----------------\n",
    "## 1.1 Subsetting geodatabases every 10 spp feature classes"
	
   ]
  },
  {
   "cell_type": "code",
   "execution_count": 15,
   "metadata": {},
   "outputs": [
    {
     "name": "stdout",
     "output_type": "stream",
     "text": [
      "101\n",
      "['Alyxoria_varia', 'Amandinea_dakotensis', 'Arthonia_patellulata', 'Arthrosporum_populorum', 'Athallia_pyracea', 'Bacidia_circumspecta', 'Bilimbia_sabuletorum', 'Blennothallia_crispa', 'Bryoria_fuscescens', 'Caliciopsis_caliciodes', 'Caloplaca_cerina', 'Candelaria_concolor', 'Candelaria_pacifica', 'Candelariella_antennaria', 'Candelariella_aurella', 'Candelariella_lutella', 'Candelariella_vitellina', 'Candelariella_vitellina0', 'Candelariella_xanthostigma', 'Chaenotheca_furfuracea', 'Chaenotheca_hispidula', 'Chaenotheca_stemonea', 'Chaenotheca_trichialis', 'Cladonia_botrytes', 'Cladonia_cariosa', 'Cladonia_chlorophaea', 'Cladonia_coniocraea', 'Cladonia_cristatella', 'Cladonia_fimbriata', 'Cladonia_macilenta', 'Cladonia_multiformis', 'Cladonia_pyxidata', 'Cladonia_scabriuscula', 'Enchylium_tenax', 'Evernia_mesomorpha', 'Flavopunctelia_flaventior', 'Flavopunctelia_soredica', 'Heterodermia_japonica', 'Hypogymnia_physodes', 'Lecania_naegelii', 'Lecanora_impudens', 'Lecanora_persimilis', 'Lecanora_pulicaris', 'Lecanora_stanislai', 'Lecanora_symmicta', 'Lecidea_erythrophaea', 'Lecidella_euphorea', 'Lepraria_finkii', 'Melanelixia_albertana', 'Melanelixia_subaurifera', 'Melanohalea_exasperatula', 'Myriolecis_sambuci', 'Parmelia_sulcata', 'Parmeliopsis_ambigua', 'Peltigera_didactyla', 'Peltigera_elisabethae', 'Peltigera_evansiana', 'Peltigera_horizontalis', 'Peltigera_leucophlebia', 'Peltigera_membranacea', 'Peltigera_neckeri', 'Peltigera_polydactylon', 'Peltigera_ponojensis', 'Peltigera_praetextata', 'Peltigera_rufescens', 'Phaeocalicium_populneum', 'Phaeocalicium_tremulicola', 'Phaeophyscia_kairamoi', 'Phaeophyscia_nigricans', 'Phaeophyscia_orbicularis', 'Physcia_adscendens', 'Physcia_adscendens0', 'Physcia_affinity_dimidiata', 'Physcia_aipolia', 'Physconia_detersa', 'Physconia_enteroxantha', 'Physconia_labrata', 'Physconia_perisidiosa', 'Polycaulonia_candelaria', 'Protoparmeliopsis_muralis', 'Punctelia_caseana', 'Ramalina_dilacerata', 'Ramalina_obtusata', 'Ramalina_pollinaria', 'Ramalina_sinensis', 'Rinodina_albertana', 'Rinodina_freyi', 'Rinodina_metaboliza', 'Rinodina_pyrina', 'Rusavskia_elegans', 'Scoliosporum_umbrinum', 'Stenocybe_pullatula', 'Usnea', 'Usnea_hirta', 'Usnea_lapponica', 'Usnea_scabrata', 'Usnea_substerilis', 'Vulpicida_pinastri', 'Xanthomendoza_fallax', 'Xanthomendoza_fulva', 'Xanthomendoza_hasseana']\n"
     ]
    }
   ],
   "source": [
    "import arcpy\n",
    "\n",
    "# access to all the spp feature classes, prepare to loop throgh all\n",
    "# arcpy.env.workspace = r\"D:/Pro_Projects/Project_Lichens_june14th2021/GDBs/weirdo1.gdb\"\n",
    "# arcpy.env.workspace = r\"D:\\Pro_Projects\\Project_Lichens_june14th2021\\GDBs\\weirdo2.gdb\"\n",
    "arcpy.env.workspace = r\"D:\\Pro_Projects\\Project_Lichens_june14th2021\\GDBs\\Deposit_NormalSpp.gdb\"\n",
    "\n",
    "\n",
    "featureclasses = arcpy.ListFeatureClasses()\n",
    "\n",
    "# check total # of spp existed and their names:)\n",
    "print(len(featureclasses))   \n",
    "print(featureclasses)\n",
    "\n",
    "# reference to the current project, map, and layout\n",
    "aprx = arcpy.mp.ArcGISProject(\"CURRENT\")\n",
    "mp = aprx.listMaps()[0]\n",
    "# lyt = aprx.listLayouts()[0]\n",
    "\n",
    "\n",
    "# divide the big deposit normal spp gdbs into 11 subsets\n",
    "# allow overwriting the outputs while running this process\n",
    "arcpy.env.workspace = r\"D:\\Pro_Projects\\Project_Lichens_june14th2021\\GDBs\"\n",
    "\n",
    "arcpy.env.overwriteOutput = True\n",
    "arcpy.CreateFileGDB_management(r\"D:\\Pro_Projects\\Project_Lichens_june14th2021\\GDBs\", \"n1.gdb\")\n",
    "arcpy.CreateFileGDB_management(r\"D:\\Pro_Projects\\Project_Lichens_june14th2021\\GDBs\", \"n2.gdb\")\n",
    "arcpy.CreateFileGDB_management(r\"D:\\Pro_Projects\\Project_Lichens_june14th2021\\GDBs\", \"n3.gdb\")\n",
    "arcpy.CreateFileGDB_management(r\"D:\\Pro_Projects\\Project_Lichens_june14th2021\\GDBs\", \"n4.gdb\")\n",
    "arcpy.CreateFileGDB_management(r\"D:\\Pro_Projects\\Project_Lichens_june14th2021\\GDBs\", \"n5.gdb\")\n",
    "arcpy.CreateFileGDB_management(r\"D:\\Pro_Projects\\Project_Lichens_june14th2021\\GDBs\", \"n6.gdb\")\n",
    "arcpy.CreateFileGDB_management(r\"D:\\Pro_Projects\\Project_Lichens_june14th2021\\GDBs\", \"n7.gdb\")\n",
    "arcpy.CreateFileGDB_management(r\"D:\\Pro_Projects\\Project_Lichens_june14th2021\\GDBs\", \"n8.gdb\")\n",
    "arcpy.CreateFileGDB_management(r\"D:\\Pro_Projects\\Project_Lichens_june14th2021\\GDBs\", \"n9.gdb\")\n",
    "arcpy.CreateFileGDB_management(r\"D:\\Pro_Projects\\Project_Lichens_june14th2021\\GDBs\", \"n10.gdb\")\n",
    "arcpy.CreateFileGDB_management(r\"D:\\Pro_Projects\\Project_Lichens_june14th2021\\GDBs\", \"n11.gdb\")\n",
    "\n",
    "arcpy.env.workspace = r\"D:\\Pro_Projects\\Project_Lichens_june14th2021\\GDBs\\Deposit_NormalSpp.gdb\"\n",
    "\n",
    "arcpy.FeatureClassToGeodatabase_conversion(featureclasses[0:10], r\"D:\\Pro_Projects\\Project_Lichens_june14th2021\\GDBs\\n1.gdb\")\n",
    "arcpy.FeatureClassToGeodatabase_conversion(featureclasses[10:20], r\"D:\\Pro_Projects\\Project_Lichens_june14th2021\\GDBs\\n2.gdb\")\n",
    "arcpy.FeatureClassToGeodatabase_conversion(featureclasses[20:30], r\"D:\\Pro_Projects\\Project_Lichens_june14th2021\\GDBs\\n3.gdb\")\n",
    "arcpy.FeatureClassToGeodatabase_conversion(featureclasses[30:40], r\"D:\\Pro_Projects\\Project_Lichens_june14th2021\\GDBs\\n4.gdb\")\n",
    "arcpy.FeatureClassToGeodatabase_conversion(featureclasses[40:50], r\"D:\\Pro_Projects\\Project_Lichens_june14th2021\\GDBs\\n5.gdb\")\n",
    "arcpy.FeatureClassToGeodatabase_conversion(featureclasses[50:60], r\"D:\\Pro_Projects\\Project_Lichens_june14th2021\\GDBs\\n6.gdb\")\n",
    "arcpy.FeatureClassToGeodatabase_conversion(featureclasses[60:70], r\"D:\\Pro_Projects\\Project_Lichens_june14th2021\\GDBs\\n7.gdb\")\n",
    "arcpy.FeatureClassToGeodatabase_conversion(featureclasses[70:80], r\"D:\\Pro_Projects\\Project_Lichens_june14th2021\\GDBs\\n8.gdb\")\n",
    "arcpy.FeatureClassToGeodatabase_conversion(featureclasses[80:90], r\"D:\\Pro_Projects\\Project_Lichens_june14th2021\\GDBs\\n9.gdb\")\n",
    "arcpy.FeatureClassToGeodatabase_conversion(featureclasses[90:100], r\"D:\\Pro_Projects\\Project_Lichens_june14th2021\\GDBs\\n10.gdb\")\n",
    "arcpy.FeatureClassToGeodatabase_conversion(featureclasses[100:], r\"D:\\Pro_Projects\\Project_Lichens_june14th2021\\GDBs\\n11.gdb\")\n",
    "arcpy.env.overwriteOutput = False\n",
    "\n",
    "\n"
   ]
  },
  {
   "cell_type": "markdown",
   "metadata": {},
   "source": [
    "## 1.2 Set basic variables such as aprx, mp, lyt"
   ]
  },
  {
   "cell_type": "code",
   "execution_count": 6,
   "metadata": {},
   "outputs": [
    {
     "name": "stdout",
     "output_type": "stream",
     "text": [
      "10\n",
      "['Alyxoria_varia', 'Amandinea_dakotensis', 'Arthonia_patellulata', 'Arthrosporum_populorum', 'Athallia_pyracea', 'Bacidia_circumspecta', 'Bilimbia_sabuletorum', 'Blennothallia_crispa', 'Bryoria_fuscescens', 'Caliciopsis_caliciodes']\n"
     ]
    }
   ],
   "source": [
    "import arcpy\n",
    "\n",
    "# access to all the spp feature classes, prepare to loop throgh all\n",
    "arcpy.env.workspace = r\"D:\\Pro_Projects\\Project_Lichens_june14th2021\\GDBs\\n1.gdb\"\n",
    "featureclasses = arcpy.ListFeatureClasses()\n",
    "\n",
    "# check total # of spp existed and their names:)\n",
    "print(len(featureclasses))   \n",
    "print(featureclasses)\n",
    "\n",
    "# reference to the current project, map, and layout\n",
    "aprx = arcpy.mp.ArcGISProject(\"CURRENT\")\n",
    "mp = aprx.listMaps()[0]\n",
    "lyt = aprx.listLayouts()[0]"
   ]
  },
  {
   "cell_type": "markdown",
   "metadata": {},
   "source": [
    "## 1.3 Create a loop only for adding the spp points and save them as pagx files"
   ]
  },
  {
   "cell_type": "code",
   "execution_count": 8,
   "metadata": {},
   "outputs": [
    {
     "name": "stdout",
     "output_type": "stream",
     "text": [
      "Alyxoria_varia\n",
      "Alyxoria varia\n",
      "Amandinea_dakotensis\n",
      "Amandinea dakotensis\n",
      "Arthonia_patellulata\n",
      "Arthonia patellulata\n",
      "Arthrosporum_populorum\n",
      "Arthrosporum populorum\n",
      "Athallia_pyracea\n",
      "Athallia pyracea\n",
      "Bacidia_circumspecta\n",
      "Bacidia circumspecta\n",
      "Bilimbia_sabuletorum\n",
      "Bilimbia sabuletorum\n",
      "Blennothallia_crispa\n",
      "Blennothallia crispa\n",
      "Bryoria_fuscescens\n",
      "Bryoria fuscescens\n",
      "Caliciopsis_caliciodes\n",
      "Caliciopsis caliciodes\n",
      "loop finished:)\n"
     ]
    }
   ],
   "source": [
    "import os\n",
    "\n",
    "# create a for loop to overlay a single spp feature class at each time, save it, then delete it\n",
    "for fc in featureclasses:\n",
    "    spp_source = os.path.join(r\"D:/Pro_Projects/Project_Lichens_june14th2021/GDBs/n1.gdb/\", fc)\n",
    "    added_spp = arcpy.MakeFeatureLayer_management(spp_source, f\"{fc}\")\n",
    "    ready_spp = arcpy.ApplySymbologyFromLayer_management(added_spp,r\"D:/Pro_Projects/Project_Lichens_june14th2021/Symbology_Layers/SppPoints.lyrx\")\n",
    "    \n",
    "    # update the spp layer name, to replace \"_\" with space\n",
    "    spp_layer = mp.listLayers()[0]\n",
    "    print(spp_layer.name)\n",
    "    spp_layer.name= spp_layer.name.replace(\"_\", \" \")\n",
    "    print(spp_layer)\n",
    "    \n",
    "    # create a legend, move the legend on the top lfet of the layout\n",
    "    mf = lyt.listElements(\"MAPFRAME_ELEMENT\", \"Map Frame\")[0]\n",
    "    legend = lyt.listElements(\"LEGEND_ELEMENT\")[0]\n",
    "    legend.elementPositionX = mf.elementPositionX - 0.37\n",
    "    legend.elementPositionY = mf.elementPositionY + 0.17\n",
    "    \n",
    "    # only include the legend for the spp name, remove all other layers\n",
    "    for item in legend.items:\n",
    "        if item.name != spp_layer:\n",
    "            legend.removeItem(item)\n",
    "            print( \"deleted:\" + item.name)\n",
    "        elif item.name == spp_layer:\n",
    "            print(\"legend contains: \" + item.name)\n",
    "        \n",
    "    # map layout export\n",
    "    lyt.exportToPNG(r\"D:\\Pro_Projects\\Project_Lichens_june14th2021\\AnyOutputs\\RawMaps\\Map_\"+ fc + \".png\", resolution = 300)\n",
    "    lyt.exportToPAGX(r\"D:\\Pro_Projects\\Project_Lichens_june14th2021\\AnyOutputs\\RawLayouts\\Layout_\"+ fc + \".pagx\")\n",
    "    \n",
    "    # delete the currently added spp layer, then start a new loop for the next spp layer\n",
    "    mp.removeLayer(mp.listLayers()[0])   \n",
    "    \n",
    "print(\"loop finished:)\")"
   ]
  },
  {
   "cell_type": "code",
   "execution_count": null,
   "metadata": {},
   "outputs": [],
   "source": []
  },
  {
   "cell_type": "markdown",
   "metadata": {},
   "source": [
    "# ---------------- PART 2----------------\n",
    "## Below script is run separately on a brand new, empty aprx. project; go through each pagx.file to refine the legend name"
   ]
  },
  {
   "cell_type": "code",
   "execution_count": 1,
   "metadata": {},
   "outputs": [
    {
     "name": "stdout",
     "output_type": "stream",
     "text": [
      "10\n",
      "['Alyxoria_varia', 'Amandinea_dakotensis', 'Arthonia_patellulata', 'Arthrosporum_populorum', 'Athallia_pyracea', 'Bacidia_circumspecta', 'Bilimbia_sabuletorum', 'Blennothallia_crispa', 'Bryoria_fuscescens', 'Caliciopsis_caliciodes']\n"
     ]
    }
   ],
   "source": [
    "import arcpy\n",
    "\n",
    "# access to all the spp feature classes, prepare to loop throgh all\n",
    "# arcpy.env.workspace = r\"D:/Pro_Projects/Project_Lichens_june14th2021/GDBs/weirdo1.gdb\"\n",
    "arcpy.env.workspace = r\"D:\\Pro_Projects\\Project_Lichens_june14th2021\\GDBs\\n1.gdb\"\n",
    "\n",
    "\n",
    "featureclasses = arcpy.ListFeatureClasses()\n",
    "\n",
    "# check total # of spp existed and their names:)\n",
    "print(len(featureclasses))   \n",
    "print(featureclasses)\n",
    "\n",
    "# reference to the current project, map, and layout\n",
    "aprx = arcpy.mp.ArcGISProject(\"CURRENT\")"
   ]
  },
  {
   "cell_type": "code",
   "execution_count": 2,
   "metadata": {},
   "outputs": [
    {
     "name": "stdout",
     "output_type": "stream",
     "text": [
      "Layout\n",
      "Alyxoria varia\n",
      "font update success!\n",
      "Layout1\n",
      "Amandinea dakotensis\n",
      "font update success!\n",
      "Layout2\n",
      "Arthonia patellulata\n",
      "font update success!\n",
      "Layout3\n",
      "Arthrosporum populorum\n",
      "font update success!\n",
      "Layout4\n",
      "Athallia pyracea\n",
      "font update success!\n",
      "Layout5\n",
      "Bacidia circumspecta\n",
      "font update success!\n",
      "Layout6\n",
      "Bilimbia sabuletorum\n",
      "font update success!\n",
      "Layout7\n",
      "Blennothallia crispa\n",
      "font update success!\n",
      "Layout8\n",
      "Bryoria fuscescens\n",
      "font update success!\n",
      "Layout9\n",
      "Caliciopsis caliciodes\n",
      "font update success!\n",
      "loop finished:)\n"
     ]
    }
   ],
   "source": [
    "for fc in featureclasses:\n",
    "    # import the layout back to the current project,\n",
    "    # this is because CIM has to work on a pagx./lyrx./mapx. format\n",
    "    aprx.importDocument(r\"D:\\Pro_Projects\\Project_Lichens_june14th2021\\AnyOutputs\\RawLayouts\\Layout_\"+ fc + \".pagx\")\n",
    "    \n",
    "    aprx = arcpy.mp.ArcGISProject(\"CURRENT\")\n",
    "    x = aprx.listLayouts()[-1]\n",
    "    print(x.name)\n",
    "    \n",
    "    # access to CIM of the layout\n",
    "    x_cim = x.getDefinition('V2')\n",
    "    \n",
    "    # change the font style, size for the legend label!\n",
    "    for item in x_cim.elements:\n",
    "        if item.name == \"Legend\":\n",
    "            for spp in item.items:\n",
    "                print(spp.name)\n",
    "                spp.labelSymbol.symbol.height = 8\n",
    "                spp.labelSymbol.symbol.fontStyleName = \"Italic\"\n",
    "                spp.labelSymbol.symbol.fontFamilyName = \"Arial\"\n",
    "                print(\"font update success!\")\n",
    "   \n",
    "    # save the CIM edits        \n",
    "    x.setDefinition(x_cim)\n",
    "    \n",
    "    \n",
    "    # map layout export\n",
    "    x.exportToPNG(r\"D:\\Pro_Projects\\Project_Lichens_june14th2021\\AnyOutputs\\Final\\Map__\"+ fc + \".png\", resolution = 300)\n",
    "    \n",
    "#      del x\n",
    "    # delete the currently added spp layer, then start a new loop for the next spp layer\n",
    "    \n",
    "print(\"loop finished:)\")"
   ]
  },
  {
   "cell_type": "code",
   "execution_count": null,
   "metadata": {},
   "outputs": [],
   "source": []
  }
 ],
 "metadata": {
  "kernelspec": {
   "display_name": "ArcGISPro",
   "language": "Python",
   "name": "python3"
  },
  "language_info": {
   "file_extension": ".py",
   "name": "python",
   "version": "3"
  }
 },
 "nbformat": 4,
 "nbformat_minor": 2
}
